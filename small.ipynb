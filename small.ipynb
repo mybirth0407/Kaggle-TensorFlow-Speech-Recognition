{
 "cells": [
  {
   "cell_type": "code",
   "execution_count": 1,
   "metadata": {
    "collapsed": true
   },
   "outputs": [],
   "source": [
    "import librosa\n",
    "import librosa.display\n",
    "import numpy as np\n",
    "from os import listdir\n",
    "from os import mkdir\n",
    "from os.path import isfile\n",
    "from os.path import isdir\n",
    "from multiprocessing import Pool\n",
    "import sys\n",
    "import h5py\n",
    "import scipy.signal\n",
    "import matplotlib.pyplot as plt\n",
    "%matplotlib inline"
   ]
  },
  {
   "cell_type": "code",
   "execution_count": 44,
   "metadata": {},
   "outputs": [
    {
     "name": "stdout",
     "output_type": "stream",
     "text": [
      "[-0.05389404 -0.49334717 -0.53335571 ..., -0.23934937  0.36676025\n",
      " -0.15600586]\n",
      "(960000,)\n",
      "sampling rate: 16000\n"
     ]
    }
   ],
   "source": [
    "y, sr = librosa.load('./train/audio/_background_noise_/white_noise.wav', sr=16000)\n",
    "print(y)\n",
    "print(y.shape)\n",
    "print('sampling rate: ' + str(sr))\n",
    "# y = y[0:2205]\n",
    "label = 0"
   ]
  },
  {
   "cell_type": "code",
   "execution_count": 75,
   "metadata": {
    "collapsed": true
   },
   "outputs": [],
   "source": [
    "EPS = np.spacing(1)\n",
    "N_MFCC = 20\n",
    "N_MELS = 40\n",
    "N_FFT = 1024\n",
    "HOP_LENGTH = int(0.02 * sr)\n",
    "WIN_LENGTH = int(0.04 * sr)\n",
    "FMIN = 0\n",
    "FMAX = sr / 2\n",
    "CENTER = True\n",
    "\n",
    "WIDTH = 9\n",
    "\n",
    "HTK_MFCC = False\n",
    "HTK_MEL = True\n",
    "LOG_MEL = True"
   ]
  },
  {
   "cell_type": "code",
   "execution_count": 76,
   "metadata": {
    "collapsed": true
   },
   "outputs": [],
   "source": [
    "def get_mel(y, sr):\n",
    "    window_ = scipy.signal.hamming(WIN_LENGTH, sym=False)\n",
    "    mel_basis = librosa.filters.mel(\n",
    "        sr=sr,\n",
    "        n_fft=N_FFT,\n",
    "        n_mels=N_MELS,\n",
    "        fmin=FMIN,\n",
    "        fmax=FMAX,\n",
    "        htk=HTK_MEL\n",
    "    )\n",
    "    \n",
    "    spectrogram_ = np.abs(librosa.stft(\n",
    "        y + EPS,\n",
    "        n_fft=N_FFT,\n",
    "        win_length=WIN_LENGTH,\n",
    "        hop_length=HOP_LENGTH,\n",
    "        center=CENTER,\n",
    "        window=window_\n",
    "    ))\n",
    "    \n",
    "    mel_spectrum = np.dot(mel_basis, spectrogram_)\n",
    "    if LOG_MEL:\n",
    "        mel_spectrum = np.log(mel_spectrum + EPS)\n",
    "        \n",
    "    return mel_spectrum.T"
   ]
  },
  {
   "cell_type": "code",
   "execution_count": 77,
   "metadata": {},
   "outputs": [
    {
     "name": "stdout",
     "output_type": "stream",
     "text": [
      "(3001, 40)\n"
     ]
    }
   ],
   "source": [
    "mel = get_mel(y, sr)\n",
    "print(mel.shape)"
   ]
  },
  {
   "cell_type": "code",
   "execution_count": 65,
   "metadata": {
    "collapsed": true
   },
   "outputs": [],
   "source": [
    "def get_mfcc(y, sr):\n",
    "    window_ = scipy.signal.hamming(WIN_LENGTH, sym=False)\n",
    "    mel_basis = librosa.filters.mel(\n",
    "        sr=sr,\n",
    "        n_fft=N_FFT,\n",
    "        n_mels=N_MELS,\n",
    "        fmin=FMIN,\n",
    "        fmax=FMAX,\n",
    "        htk=HTK_MFCC\n",
    "    )\n",
    "    \n",
    "    spectrogram_ = np.abs(librosa.stft(\n",
    "        y + EPS,\n",
    "        n_fft=N_FFT,\n",
    "        win_length=WIN_LENGTH,\n",
    "        hop_length=HOP_LENGTH,\n",
    "        center=CENTER,\n",
    "        window=window_\n",
    "    ))\n",
    "    \n",
    "    mel_spectrum = np.dot(mel_basis, spectrogram_)\n",
    "\n",
    "    mfcc = librosa.feature.mfcc(S=librosa.logamplitude(mel_spectrum),\n",
    "                                n_mfcc=N_MFCC)\n",
    "    \n",
    "    return mfcc.T"
   ]
  },
  {
   "cell_type": "code",
   "execution_count": 66,
   "metadata": {},
   "outputs": [
    {
     "name": "stdout",
     "output_type": "stream",
     "text": [
      "(3001, 20)\n"
     ]
    }
   ],
   "source": [
    "mfcc = get_mfcc(y, sr)\n",
    "print(mfcc.shape)"
   ]
  },
  {
   "cell_type": "code",
   "execution_count": 67,
   "metadata": {
    "collapsed": true
   },
   "outputs": [],
   "source": [
    "def get_mfcc_delta(mfcc):\n",
    "    delta = librosa.feature.delta(mfcc, WIDTH)\n",
    "\n",
    "    # mfcc is already .T\n",
    "    return delta"
   ]
  },
  {
   "cell_type": "code",
   "execution_count": 68,
   "metadata": {},
   "outputs": [
    {
     "name": "stdout",
     "output_type": "stream",
     "text": [
      "(3001, 20)\n"
     ]
    }
   ],
   "source": [
    "mfcc_del = get_mfcc_delta(mfcc)\n",
    "print(mfcc_del.shape)"
   ]
  },
  {
   "cell_type": "code",
   "execution_count": 69,
   "metadata": {
    "collapsed": true
   },
   "outputs": [],
   "source": [
    "def get_mfcc_acceleration(mfcc):\n",
    "    acceleration = librosa.feature.delta(\n",
    "        mfcc,\n",
    "        order=2,\n",
    "        width=WIDTH\n",
    "    )\n",
    "\n",
    "    # mfcc is already .T\n",
    "    return acceleration"
   ]
  },
  {
   "cell_type": "code",
   "execution_count": 70,
   "metadata": {},
   "outputs": [
    {
     "name": "stdout",
     "output_type": "stream",
     "text": [
      "(3001, 20)\n"
     ]
    }
   ],
   "source": [
    "mfcc_acc = get_mfcc_acceleration(mfcc)\n",
    "print(mfcc_acc.shape)"
   ]
  },
  {
   "cell_type": "code",
   "execution_count": 71,
   "metadata": {},
   "outputs": [
    {
     "name": "stdout",
     "output_type": "stream",
     "text": [
      "(3001, 101)\n"
     ]
    }
   ],
   "source": [
    "feature_v = np.empty((0, 101))\n",
    "for i in range(len(mel)):\n",
    "    feature = np.hstack([mel[i], mfcc[i], mfcc_del[i], mfcc_acc[i], label])\n",
    "    feature_v = np.vstack((feature_v, feature))\n",
    "print(feature_v.shape)"
   ]
  },
  {
   "cell_type": "code",
   "execution_count": null,
   "metadata": {
    "collapsed": true
   },
   "outputs": [],
   "source": []
  },
  {
   "cell_type": "code",
   "execution_count": null,
   "metadata": {
    "collapsed": true
   },
   "outputs": [],
   "source": []
  }
 ],
 "metadata": {
  "kernelspec": {
   "display_name": "Python 3",
   "language": "python",
   "name": "python3"
  },
  "language_info": {
   "codemirror_mode": {
    "name": "ipython",
    "version": 3
   },
   "file_extension": ".py",
   "mimetype": "text/x-python",
   "name": "python",
   "nbconvert_exporter": "python",
   "pygments_lexer": "ipython3",
   "version": "3.6.3"
  }
 },
 "nbformat": 4,
 "nbformat_minor": 2
}
