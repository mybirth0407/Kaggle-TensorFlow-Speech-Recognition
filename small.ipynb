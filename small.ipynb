{
 "cells": [
  {
   "cell_type": "code",
   "execution_count": 38,
   "metadata": {
    "collapsed": true
   },
   "outputs": [],
   "source": [
    "import librosa\n",
    "import librosa.display\n",
    "import numpy as np\n",
    "from os import listdir\n",
    "from os import mkdir\n",
    "from os.path import isfile\n",
    "from os.path import isdir\n",
    "import sys\n",
    "import h5py\n",
    "import scipy.signal\n",
    "import matplotlib.pyplot as plt\n",
    "%matplotlib inline"
   ]
  },
  {
   "cell_type": "code",
   "execution_count": 39,
   "metadata": {},
   "outputs": [
    {
     "name": "stdout",
     "output_type": "stream",
     "text": [
      "[ 0.00045776  0.00088501  0.00045776 ...,  0.02966309  0.03326416\n",
      "  0.02850342]\n",
      "(16000,)\n",
      "sampling rate: 16000\n"
     ]
    }
   ],
   "source": [
    "y, sr = librosa.load('./train/audio/down/00b01445_nohash_0.wav', sr=16000)\n",
    "print(y)\n",
    "print(y.shape)\n",
    "print('sampling rate: ' + str(sr))\n",
    "# y = y[0:2205]\n",
    "label = 0"
   ]
  },
  {
   "cell_type": "code",
   "execution_count": 40,
   "metadata": {
    "collapsed": true
   },
   "outputs": [],
   "source": [
    "EPS = np.spacing(1)\n",
    "N_MFCC = 39\n",
    "N_MELS = 40\n",
    "N_FFT = 1024\n",
    "HOP_LENGTH = int(0.02 * 16000)\n",
    "WIN_LENGTH = int(0.04 * 16000)\n",
    "FMIN = 0\n",
    "FMAX = 8000\n",
    "CENTER = True\n",
    "\n",
    "WIDTH = 9\n",
    "\n",
    "HTK_MFCC = False\n",
    "HTK_MEL = True\n",
    "LOG_MEL = True"
   ]
  },
  {
   "cell_type": "code",
   "execution_count": 41,
   "metadata": {},
   "outputs": [
    {
     "data": {
      "text/plain": [
       "Text(0.5,1,'bed')"
      ]
     },
     "execution_count": 41,
     "metadata": {},
     "output_type": "execute_result"
    },
    {
     "data": {
      "image/png": "[encoded data removed]",
      "text/plain": [
       "<matplotlib.figure.Figure at 0x7f7d5c646828>"
      ]
     },
     "metadata": {},
     "output_type": "display_data"
    }
   ],
   "source": [
    "plt.figure()\n",
    "plt.subplot(3, 1, 1)\n",
    "librosa.display.waveplot(y, sr=sr)\n",
    "plt.title('bed')"
   ]
  },
  {
   "cell_type": "code",
   "execution_count": 42,
   "metadata": {},
   "outputs": [],
   "source": [
    "def load_audio(file_path):\n",
    "    y, sr = librosa.load(file_path, sr=16000)\n",
    "    if len(y) > sr:\n",
    "        a = len(y) // sr\n",
    "        y = y[:sr * a]\n",
    "    else:\n",
    "        y = np.pad(y, (0, max(0, sr - len(y))), \"constant\")\n",
    "\n",
    "    return y, sr"
   ]
  },
  {
   "cell_type": "code",
   "execution_count": 43,
   "metadata": {
    "collapsed": true
   },
   "outputs": [],
   "source": [
    "def get_mel(y, sr):\n",
    "    window_ = scipy.signal.hamming(WIN_LENGTH, sym=False)\n",
    "    mel_basis = librosa.filters.mel(\n",
    "        sr=sr,\n",
    "        n_fft=N_FFT,\n",
    "        n_mels=N_MELS,\n",
    "        fmin=FMIN,\n",
    "        fmax=FMAX,\n",
    "        htk=HTK_MEL\n",
    "    )\n",
    "    \n",
    "    spectrogram_ = np.abs(librosa.stft(\n",
    "        y + EPS,\n",
    "        n_fft=N_FFT,\n",
    "        win_length=WIN_LENGTH,\n",
    "        hop_length=HOP_LENGTH,\n",
    "        center=CENTER,\n",
    "        window=window_\n",
    "    ))\n",
    "    \n",
    "    mel_spectrum = np.dot(mel_basis, spectrogram_)\n",
    "    if LOG_MEL:\n",
    "        mel_spectrum = np.log(mel_spectrum + EPS)\n",
    "                \n",
    "    return mel_spectrum.T"
   ]
  },
  {
   "cell_type": "code",
   "execution_count": 44,
   "metadata": {},
   "outputs": [
    {
     "name": "stdout",
     "output_type": "stream",
     "text": [
      "(51, 40)\n"
     ]
    },
    {
     "data": {
      "image/png": "[encoded data removed]",
      "text/plain": [
       "<matplotlib.figure.Figure at 0x7f7d5c62beb8>"
      ]
     },
     "metadata": {},
     "output_type": "display_data"
    }
   ],
   "source": [
    "mel = get_mel(y, sr)\n",
    "        \n",
    "librosa.display.specshow(mel.T)\n",
    "print(mel.shape)\n"
   ]
  },
  {
   "cell_type": "code",
   "execution_count": 59,
   "metadata": {
    "collapsed": true
   },
   "outputs": [],
   "source": [
    "def get_mfcc(y, sr):\n",
    "    window_ = scipy.signal.hamming(WIN_LENGTH, sym=False)\n",
    "    mel_basis = librosa.filters.mel(\n",
    "        sr=sr,\n",
    "        n_fft=N_FFT,\n",
    "        n_mels=N_MELS,\n",
    "        fmin=FMIN,\n",
    "        fmax=FMAX,\n",
    "        htk=HTK_MFCC\n",
    "    )\n",
    "    \n",
    "    spectrogram_ = np.abs(librosa.stft(\n",
    "        y + EPS,\n",
    "        n_fft=N_FFT,\n",
    "        win_length=WIN_LENGTH,\n",
    "        hop_length=HOP_LENGTH,\n",
    "        center=CENTER,\n",
    "        window=window_\n",
    "    ))\n",
    "    \n",
    "    mel_spectrum = np.dot(mel_basis, spectrogram_)\n",
    "\n",
    "    mfcc = librosa.feature.mfcc(S=librosa.logamplitude(mel_spectrum), n_mfcc=N_MFCC)\n",
    "    \n",
    "    return mfcc.T"
   ]
  },
  {
   "cell_type": "code",
   "execution_count": 60,
   "metadata": {},
   "outputs": [
    {
     "name": "stdout",
     "output_type": "stream",
     "text": [
      "(51, 39)\n"
     ]
    }
   ],
   "source": [
    "mfcc = get_mfcc(y, sr)\n",
    "print(mfcc.shape)"
   ]
  },
  {
   "cell_type": "code",
   "execution_count": 61,
   "metadata": {
    "collapsed": true
   },
   "outputs": [],
   "source": [
    "def get_mfcc_delta(mfcc):\n",
    "    delta = librosa.feature.delta(mfcc, WIDTH)\n",
    "\n",
    "    # mfcc is already .T\n",
    "    return delta"
   ]
  },
  {
   "cell_type": "code",
   "execution_count": 62,
   "metadata": {},
   "outputs": [
    {
     "name": "stdout",
     "output_type": "stream",
     "text": [
      "(51, 39)\n"
     ]
    }
   ],
   "source": [
    "mfcc_del = get_mfcc_delta(mfcc)\n",
    "print(mfcc_del.shape)"
   ]
  },
  {
   "cell_type": "code",
   "execution_count": 63,
   "metadata": {
    "collapsed": true
   },
   "outputs": [],
   "source": [
    "def get_mfcc_acceleration(mfcc):\n",
    "    acceleration = librosa.feature.delta(\n",
    "        mfcc,\n",
    "        order=2,\n",
    "        width=WIDTH\n",
    "    )\n",
    "\n",
    "    # mfcc is already .T\n",
    "    return acceleration"
   ]
  },
  {
   "cell_type": "code",
   "execution_count": 83,
   "metadata": {},
   "outputs": [
    {
     "name": "stdout",
     "output_type": "stream",
     "text": [
      "<class 'numpy.ndarray'>\n"
     ]
    }
   ],
   "source": [
    "y0, sr0 = load_audio('./train/audio/down/00b01445_nohash_0.wav')\n",
    "print(type(y0))\n",
    "y1, sr1 = load_audio('./train/audio/down/00b01445_nohash_1.wav')"
   ]
  },
  {
   "cell_type": "code",
   "execution_count": 79,
   "metadata": {},
   "outputs": [
    {
     "name": "stdout",
     "output_type": "stream",
     "text": [
      "(51, 39)\n",
      "51\n",
      "(51, 39)\n"
     ]
    }
   ],
   "source": [
    "mfcc0 = get_mfcc(y0, sr0)\n",
    "mfcc1 = get_mfcc(y1, sr1)\n",
    "\n",
    "print(mfcc0.shape)\n",
    "print(mfcc0.shape[0])\n",
    "print(mfcc1.shape)"
   ]
  },
  {
   "cell_type": "code",
   "execution_count": 82,
   "metadata": {},
   "outputs": [
    {
     "name": "stdout",
     "output_type": "stream",
     "text": [
      "(102, 39)\n",
      "(2, 51, 39)\n"
     ]
    }
   ],
   "source": [
    "feature_vector = np.empty((0, 39))\n",
    "for feature in [mfcc0, mfcc1]:\n",
    "    # axis = 0, column appending\n",
    "    feature_vector = np.append(feature_vector, feature, axis=0)\n",
    "print(feature_vector.shape)\n",
    "feature_vector = np.reshape(feature_vector, (2, 51, 39))\n",
    "print(feature_vector.shape)"
   ]
  },
  {
   "cell_type": "code",
   "execution_count": null,
   "metadata": {
    "collapsed": true
   },
   "outputs": [],
   "source": [
    "\n"
   ]
  },
  {
   "cell_type": "code",
   "execution_count": null,
   "metadata": {
    "collapsed": true
   },
   "outputs": [],
   "source": []
  }
 ],
 "metadata": {
  "kernelspec": {
   "display_name": "Python 3",
   "language": "python",
   "name": "python3"
  },
  "language_info": {
   "codemirror_mode": {
    "name": "ipython",
    "version": 3
   },
   "file_extension": ".py",
   "mimetype": "text/x-python",
   "name": "python",
   "nbconvert_exporter": "python",
   "pygments_lexer": "ipython3",
   "version": "3.6.3"
  }
 },
 "nbformat": 4,
 "nbformat_minor": 2
}
